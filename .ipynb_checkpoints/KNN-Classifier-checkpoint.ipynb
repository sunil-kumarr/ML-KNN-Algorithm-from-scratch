{
 "cells": [
  {
   "cell_type": "markdown",
   "metadata": {},
   "source": [
    "# Introduction and Applications\n",
    "\n",
    "1. Lazy evaluation algorithm.\n",
    "2. Can be used for both classification and regression but mostly used for classification.\n",
    "3. Uses Minkowski distance algorithm (Default : **Euclidian distance**).\n",
    "4. Simple majority vote is used from neighbours to classify a new node.\n",
    "5. **K: # of neighbours** \n",
    "   * K = small -> results in overfitting of model(Complex model)\n",
    "     * Tends to capture minute details that result in training predication to be overfitted and testing prediction to fail for new data.\n",
    "   * K = large -> results in underfitting of model(Simplified model)\n",
    "     * Tends to capture more general trend in data results again fails in both training and testing data.\n",
    "3. **Applications:** \n",
    "   * Microbology (classification of neighbouring cells mostly cancer detection)\n",
    "   * Marketing (Customer segmentation)\n",
    "   * Credit fraud analytics (many more examples coming soon..)\n",
    "   "
   ]
  },
  {
   "cell_type": "markdown",
   "metadata": {},
   "source": [
    "# Calulating distance between nodes\n",
    "\n",
    "1. Hamiltonian distance : $D_m = \\sum_{i=1}^{n}|x{_i}-y{_i}|$\n",
    "2. Euclidian distance : $D_m = \\left( \\sum_{i=i}^{n} (x_{i}-y_{i})^{2}\\right)^{1/_2}$\n",
    "3. Minkowiski distance :\n",
    "   * It is generaliztion of the above two as : $D_m = \\left( \\sum_{i=i}^{n} (x_{i}-y_{i})^{p}\\right)^{1/_p}$\n",
    "4. Hamming distance"
   ]
  },
  {
   "cell_type": "markdown",
   "metadata": {},
   "source": [
    "# Issues with distance based algorithms\n",
    "\n",
    "**Problem:** Distance based algo doesn't work well if features have **different Scales**.  \n",
    "**Solution:** scaled all features to same i.e. normalization of feature data before hand."
   ]
  },
  {
   "cell_type": "markdown",
   "metadata": {},
   "source": [
    "# Implementing KNN-Classifier ( FROM Scratch)"
   ]
  }
 ],
 "metadata": {
  "kernelspec": {
   "display_name": "Python 3",
   "language": "python",
   "name": "python3"
  },
  "language_info": {
   "codemirror_mode": {
    "name": "ipython",
    "version": 3
   },
   "file_extension": ".py",
   "mimetype": "text/x-python",
   "name": "python",
   "nbconvert_exporter": "python",
   "pygments_lexer": "ipython3",
   "version": "3.7.4"
  }
 },
 "nbformat": 4,
 "nbformat_minor": 4
}
